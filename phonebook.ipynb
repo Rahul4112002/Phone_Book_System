{
 "cells": [
  {
   "cell_type": "code",
   "execution_count": 14,
   "metadata": {},
   "outputs": [],
   "source": [
    "from tkinter import *\n",
    "import time\n",
    "def clock():\n",
    "    date=time.strftime('%d/%m/%Y')\n",
    "    currenttime=time.strftime('%H:%M:%S')\n",
    "    print(date,currenttime)\n",
    "    datetimelabel.config(text=f'Date:{date}')\n",
    "    \n",
    "root=Tk()\n",
    "root.geometry(\"1174x680+0+0\")\n",
    "root.resizable(0,0)\n",
    "root.configure(bg=\"light coral\")\n",
    "root.title(\"Phone Book\")\n",
    "datetimelabel=Label(root,font=('times new roman',18,'bold'))\n",
    "datetimelabel.place(x=5,y=5)\n",
    "clock\n",
    "root.mainloop()"
   ]
  },
  {
   "cell_type": "code",
   "execution_count": null,
   "metadata": {},
   "outputs": [],
   "source": []
  },
  {
   "cell_type": "code",
   "execution_count": null,
   "metadata": {},
   "outputs": [],
   "source": []
  }
 ],
 "metadata": {
  "kernelspec": {
   "display_name": "Python 3.10.5 64-bit",
   "language": "python",
   "name": "python3"
  },
  "language_info": {
   "codemirror_mode": {
    "name": "ipython",
    "version": 3
   },
   "file_extension": ".py",
   "mimetype": "text/x-python",
   "name": "python",
   "nbconvert_exporter": "python",
   "pygments_lexer": "ipython3",
   "version": "3.10.5"
  },
  "orig_nbformat": 4,
  "vscode": {
   "interpreter": {
    "hash": "f60c67c8fc6558068c545c217476333b037001c0c5b1b6ed13d6c32b97b91284"
   }
  }
 },
 "nbformat": 4,
 "nbformat_minor": 2
}
