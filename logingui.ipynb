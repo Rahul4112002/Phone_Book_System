{
 "cells": [
  {
   "cell_type": "code",
   "execution_count": 5,
   "metadata": {},
   "outputs": [],
   "source": [
    "from tkinter import *\n",
    "from tkinter import messagebox\n",
    "def login():\n",
    "    if usernameEntry.get()=='' or PasswardEntry.get()=='':\n",
    "        messagebox.showerror('Error','Fields cannot be Empty')\n",
    "    elif usernameEntry.get()=='Rahul' and PasswardEntry.get()=='4112':\n",
    "        messagebox.showinfo('Success','Welcome')\n",
    "        win.destroy()\n",
    "        import phonebook\n",
    "    else:\n",
    "        messagebox.showerror('Error','Wrong Username and Passward')\n",
    "        \n",
    "win=Tk()\n",
    "win.configure(bg=\"light blue\")\n",
    "win.geometry(\"1280x700\")\n",
    "win.resizable(False,False)\n",
    "loginFrame=Frame(win,bg='light blue')\n",
    "loginFrame.place(x=400,y=150)\n",
    "usernameLabel=Label(loginFrame,text='Username ',bg='light blue',font=('times of roman',20,'bold'))\n",
    "usernameLabel.grid(row=8,column=0,pady=10)\n",
    "\n",
    "usernameEntry=Entry(loginFrame,bg='White',font=('times of roman',16),bd=5)\n",
    "usernameEntry.grid(row=8,column=1,pady=10)\n",
    "\n",
    "passwardLabel=Label(loginFrame,text='Passward',bg='light blue',font=('times of roman',20,'bold'))\n",
    "passwardLabel.grid(row=9,column=0)\n",
    "PasswardEntry=Entry(loginFrame,bg='White',font=('times of roman',16),bd=5)\n",
    "PasswardEntry.grid(row=9,column=1)\n",
    "loginButton=Button(loginFrame,text='Login',font=('times of roman',14,'bold'),bd=5,width=15,bg='cornflowerblue',cursor='hand2',command=login)\n",
    "loginButton.grid(row=10,column=1,pady=10)\n",
    "win.mainloop()"
   ]
  },
  {
   "cell_type": "code",
   "execution_count": null,
   "metadata": {},
   "outputs": [],
   "source": []
  }
 ],
 "metadata": {
  "kernelspec": {
   "display_name": "Python 3.10.5 64-bit",
   "language": "python",
   "name": "python3"
  },
  "language_info": {
   "codemirror_mode": {
    "name": "ipython",
    "version": 3
   },
   "file_extension": ".py",
   "mimetype": "text/x-python",
   "name": "python",
   "nbconvert_exporter": "python",
   "pygments_lexer": "ipython3",
   "version": "3.10.5"
  },
  "orig_nbformat": 4,
  "vscode": {
   "interpreter": {
    "hash": "f60c67c8fc6558068c545c217476333b037001c0c5b1b6ed13d6c32b97b91284"
   }
  }
 },
 "nbformat": 4,
 "nbformat_minor": 2
}
